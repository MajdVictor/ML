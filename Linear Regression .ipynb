{
 "cells": [
  {
   "cell_type": "code",
   "execution_count": 4,
   "id": "5f54a6a6",
   "metadata": {},
   "outputs": [],
   "source": [
    "import pandas as pd\n",
    "import numpy as np\n",
    "import matplotlib.pyplot as plt\n",
    "\n",
    "from sklearn import linear_model"
   ]
  },
  {
   "cell_type": "code",
   "execution_count": 5,
   "id": "0eaa9c74",
   "metadata": {},
   "outputs": [],
   "source": [
    "#dataframe\n",
    "df = pd.read_csv(\"homeprices.csv\")"
   ]
  },
  {
   "cell_type": "code",
   "execution_count": 6,
   "id": "b6000d7c",
   "metadata": {},
   "outputs": [
    {
     "data": {
      "text/plain": [
       "<matplotlib.collections.PathCollection at 0x7fb60c6d7be0>"
      ]
     },
     "execution_count": 6,
     "metadata": {},
     "output_type": "execute_result"
    },
    {
     "data": {
      "image/png": "[encoded data removed]",
      "text/plain": [
       "<Figure size 432x288 with 1 Axes>"
      ]
     },
     "metadata": {
      "needs_background": "light"
     },
     "output_type": "display_data"
    }
   ],
   "source": [
    "%matplotlib inline\n",
    "#Setting labels to X and Y \n",
    "plt.xlabel(\"AREA\")\n",
    "plt.ylabel(\"PRICE\")\n",
    "plt.scatter(df.area,df.price, marker=\"x\")"
   ]
  },
  {
   "cell_type": "code",
   "execution_count": 7,
   "id": "85a67381",
   "metadata": {},
   "outputs": [
    {
     "data": {
      "text/plain": [
       "LinearRegression()"
      ]
     },
     "execution_count": 7,
     "metadata": {},
     "output_type": "execute_result"
    }
   ],
   "source": [
    "#create linear regression object\n",
    "linear_reg_obj = linear_model.LinearRegression()\n",
    "\n",
    "#training the model\n",
    "linear_reg_obj.fit(df[['area']], df.price)"
   ]
  },
  {
   "cell_type": "code",
   "execution_count": 8,
   "id": "80b76e5f",
   "metadata": {},
   "outputs": [
    {
     "data": {
      "text/plain": [
       "array([642294.52054795])"
      ]
     },
     "execution_count": 8,
     "metadata": {},
     "output_type": "execute_result"
    }
   ],
   "source": [
    "#predicting one value\n",
    "linear_reg_obj.predict([[3400]])"
   ]
  },
  {
   "cell_type": "code",
   "execution_count": 9,
   "id": "c9140fbd",
   "metadata": {},
   "outputs": [
    {
     "data": {
      "text/plain": [
       "180616.43835616432"
      ]
     },
     "execution_count": 9,
     "metadata": {},
     "output_type": "execute_result"
    }
   ],
   "source": [
    "#y interception\n",
    "linear_reg_obj.intercept_"
   ]
  },
  {
   "cell_type": "code",
   "execution_count": 10,
   "id": "30a31ab0",
   "metadata": {},
   "outputs": [
    {
     "data": {
      "text/plain": [
       "array([135.78767123])"
      ]
     },
     "execution_count": 10,
     "metadata": {},
     "output_type": "execute_result"
    }
   ],
   "source": [
    "#slope(Gradient)\n",
    "linear_reg_obj.coef_"
   ]
  },
  {
   "cell_type": "code",
   "execution_count": 11,
   "id": "2aff4c89",
   "metadata": {},
   "outputs": [
    {
     "data": {
      "text/plain": [
       "642294.5205381643"
      ]
     },
     "execution_count": 11,
     "metadata": {},
     "output_type": "execute_result"
    }
   ],
   "source": [
    "#y = mx+b =  642294.52054795\n",
    "3400*135.78767123 + 180616.43835616432"
   ]
  },
  {
   "cell_type": "code",
   "execution_count": 12,
   "id": "aa06e7f5",
   "metadata": {},
   "outputs": [
    {
     "data": {
      "text/plain": [
       "[<matplotlib.lines.Line2D at 0x7fb60c7d6160>]"
      ]
     },
     "execution_count": 12,
     "metadata": {},
     "output_type": "execute_result"
    },
    {
     "data": {
      "image/png": "[encoded data removed]",
      "text/plain": [
       "<Figure size 432x288 with 1 Axes>"
      ]
     },
     "metadata": {
      "needs_background": "light"
     },
     "output_type": "display_data"
    }
   ],
   "source": [
    "%matplotlib inline\n",
    "plt.xlabel(\"AREA\")\n",
    "plt.ylabel(\"PRICE\")\n",
    "plt.scatter(df.area,df.price, marker=\"x\")\n",
    "plt.plot(df.area, linear_reg_obj.predict(df[['area']]), color=\"red\")"
   ]
  },
  {
   "cell_type": "code",
   "execution_count": 14,
   "id": "f67190f1",
   "metadata": {},
   "outputs": [
    {
     "data": {
      "text/plain": [
       "{'copy_X': True,\n",
       " 'fit_intercept': True,\n",
       " 'n_jobs': None,\n",
       " 'normalize': False,\n",
       " 'positive': False}"
      ]
     },
     "execution_count": 14,
     "metadata": {},
     "output_type": "execute_result"
    }
   ],
   "source": []
  }
 ],
 "metadata": {
  "kernelspec": {
   "display_name": "Python 3",
   "language": "python",
   "name": "python3"
  },
  "language_info": {
   "codemirror_mode": {
    "name": "ipython",
    "version": 3
   },
   "file_extension": ".py",
   "mimetype": "text/x-python",
   "name": "python",
   "nbconvert_exporter": "python",
   "pygments_lexer": "ipython3",
   "version": "3.8.8"
  }
 },
 "nbformat": 4,
 "nbformat_minor": 5
}
